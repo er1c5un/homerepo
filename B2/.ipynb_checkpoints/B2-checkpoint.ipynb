{
 "cells": [
  {
   "cell_type": "markdown",
   "metadata": {},
   "source": [
    "Команда для установки **jupyter lab**\n",
    "\n",
    "```bash\n",
    "pip install jupyterlab\n",
    "```"
   ]
  },
  {
   "cell_type": "markdown",
   "metadata": {},
   "source": [
    "# Вебинар «Типы данных»"
   ]
  },
  {
   "cell_type": "markdown",
   "metadata": {},
   "source": [
    "# 1. Числовые типы данных"
   ]
  },
  {
   "cell_type": "markdown",
   "metadata": {},
   "source": [
    "## 1.1 Int"
   ]
  },
  {
   "cell_type": "markdown",
   "metadata": {},
   "source": [
    "#### Объявление переменных:"
   ]
  },
  {
   "cell_type": "code",
   "execution_count": 1,
   "metadata": {},
   "outputs": [],
   "source": [
    "a = 4\n",
    "b = 13 \n",
    "c = -30"
   ]
  },
  {
   "cell_type": "markdown",
   "metadata": {},
   "source": [
    "#### Базовые математические операции"
   ]
  },
  {
   "cell_type": "code",
   "execution_count": 2,
   "metadata": {},
   "outputs": [],
   "source": [
    "# Сумма чисел\n",
    "s = a + b\n",
    "\n",
    "# Разность \n",
    "s = a - b\n",
    "\n",
    "# Произведение\n",
    "s = a * b\n",
    "\n",
    "# Возведение в степень\n",
    "s = b ** a"
   ]
  },
  {
   "cell_type": "markdown",
   "metadata": {},
   "source": [
    "#### Целочисленное деление: \n",
    "Остаток и частное от целочисленного деления можно определить так  \n",
    "Пусть `a` делим на `b` .  \n",
    "Тогда если `b > 0` :  \n",
    "Возьмем целые числа `p` и `q` такие, что  \n",
    "1. `a = p * b + q`  \n",
    "2. `0 <= q < b`  \n",
    "Если `b < 0` :  \n",
    "Возьмем целые числа `p` и `q` такие, что  \n",
    "1. `a = p * b + q`  \n",
    "2. `b < q <= 0`  \n",
    "Тогда `p` - частное от деления : `a // b`  \n",
    "`q` - остаток от деления: `a % b`  \n",
    "  \n",
    "  \n",
    "В случае с `13 % -3`мы получаем  \n",
    "`13 = -5*-3 - 2`  \n",
    "Потому что на остаток накладываются ограничения: `-3 < q <=0`  \n",
    "  \n",
    "  \n",
    "Если мы берем остаток от деления числа `a` на положительное число `b` , то мы ищем ближайшее **снизу**  к числу `a` число, которое делится на `b` . И вычитаем это число из числа `a`  \n",
    "Например `13 % 3` . Ближайшее **снизу**  число, которое делится на `3`, это `12` . Тогда остаток `13 % 3 = 13 - 12 = 1` .  \n",
    "Если мы берем остаток от деления числа `a` на отрицательное число `b` , то мы ищем ближайшее **сверху**  к числу `a` число, которое делится на `b` . И вычитаем это число из числа `a`  \n",
    "Например `13 % -3` . Ближайшее **сверху**  число, которое делится на `3`, это `15` . Тогда остаток `13 % 3 = 13 - 15 = -2` .  \n",
    "  \n"
   ]
  },
  {
   "cell_type": "code",
   "execution_count": 3,
   "metadata": {},
   "outputs": [],
   "source": [
    "# Деление нацело\n",
    "s = b // a\n",
    "\n",
    "# Остаток от деления\n",
    "o = b % a"
   ]
  },
  {
   "cell_type": "markdown",
   "metadata": {},
   "source": [
    "#### Сокращённая запись:"
   ]
  },
  {
   "cell_type": "code",
   "execution_count": 4,
   "metadata": {},
   "outputs": [],
   "source": [
    "a = a + 10\n",
    "a += 10"
   ]
  },
  {
   "cell_type": "code",
   "execution_count": 5,
   "metadata": {},
   "outputs": [],
   "source": [
    "# Прибавление к переменной\n",
    "p = 1\n",
    "p += 10\n",
    "p += 10\n",
    "\n",
    "# Вычитание переменной\n",
    "\n",
    "p -= 15\n",
    "\n",
    "# Умножение переменной\n",
    "\n",
    "p *= 20 "
   ]
  },
  {
   "cell_type": "markdown",
   "metadata": {},
   "source": [
    "#### Прочие полезные конструкции"
   ]
  },
  {
   "cell_type": "code",
   "execution_count": 6,
   "metadata": {},
   "outputs": [
    {
     "name": "stdin",
     "output_type": "stream",
     "text": [
      " 123\n",
      " 333\n"
     ]
    },
    {
     "name": "stdout",
     "output_type": "stream",
     "text": [
      "456\n"
     ]
    }
   ],
   "source": [
    "# Модуль\n",
    "abs(c)\n",
    "\n",
    "# Преобразование к int\n",
    "d = int(\"1\")\n",
    "\n",
    "\n",
    "# Ввод чисел пользователем\n",
    "a = int(input())\n",
    "b = int(input())\n",
    "print(a+b)"
   ]
  },
  {
   "cell_type": "markdown",
   "metadata": {},
   "source": [
    "## 1.2 Float"
   ]
  },
  {
   "cell_type": "code",
   "execution_count": 7,
   "metadata": {},
   "outputs": [
    {
     "name": "stdout",
     "output_type": "stream",
     "text": [
      "0.27906976744186046\n"
     ]
    },
    {
     "data": {
      "text/plain": [
       "1"
      ]
     },
     "execution_count": 7,
     "metadata": {},
     "output_type": "execute_result"
    }
   ],
   "source": [
    "a = 1.123\n",
    "b = float(\"1.23\")\n",
    "\n",
    "c = 1.23213e4\n",
    "c = 1.23213 * 10**4\n",
    "\n",
    "# Деление\n",
    "c = 12/43\n",
    "\n",
    "print(c)\n",
    "\n",
    "# Округление\n",
    "round(8/12)"
   ]
  },
  {
   "cell_type": "code",
   "execution_count": 8,
   "metadata": {},
   "outputs": [
    {
     "name": "stdout",
     "output_type": "stream",
     "text": [
      "2\n",
      "2\n"
     ]
    }
   ],
   "source": [
    "print(round(1.5))\n",
    "print(round(2.5))"
   ]
  },
  {
   "cell_type": "code",
   "execution_count": 10,
   "metadata": {},
   "outputs": [
    {
     "name": "stdout",
     "output_type": "stream",
     "text": [
      "21\n",
      "22\n",
      "22\n"
     ]
    }
   ],
   "source": [
    "import math\n",
    "\n",
    "b = 21.632424\n",
    "\n",
    "print(math.floor(b))\n",
    "print(math.ceil(b))\n",
    "print(round(b))"
   ]
  },
  {
   "cell_type": "markdown",
   "metadata": {},
   "source": [
    "#### Проверка `float` на «равенство»"
   ]
  },
  {
   "cell_type": "code",
   "execution_count": 11,
   "metadata": {},
   "outputs": [
    {
     "name": "stdout",
     "output_type": "stream",
     "text": [
      "False\n",
      "True\n"
     ]
    }
   ],
   "source": [
    "a = 0.2 + 0.4\n",
    "\n",
    "# Плохо\n",
    "print( a == 0.6 )\n",
    "\n",
    "# Хорошо\n",
    "print(abs(a-0.6) < 1e-7)"
   ]
  },
  {
   "cell_type": "markdown",
   "metadata": {},
   "source": [
    "\n",
    "## Задача 1.1:\n",
    "Вычислите число $2^{179}$. Выведите на экран вычисленное значение."
   ]
  },
  {
   "cell_type": "code",
   "execution_count": 12,
   "metadata": {},
   "outputs": [
    {
     "name": "stdout",
     "output_type": "stream",
     "text": [
      "766247770432944429179173513575154591809369561091801088\n"
     ]
    }
   ],
   "source": [
    "a = 2 ** 179\n",
    "print(a)"
   ]
  },
  {
   "cell_type": "markdown",
   "metadata": {},
   "source": [
    "## Задача 1.2:\n",
    "С клавиатуры пользователь вводит число $n$. Выведите на экран значение выражения  $2^n$."
   ]
  },
  {
   "cell_type": "code",
   "execution_count": 13,
   "metadata": {},
   "outputs": [
    {
     "name": "stdin",
     "output_type": "stream",
     "text": [
      " 120\n"
     ]
    },
    {
     "name": "stdout",
     "output_type": "stream",
     "text": [
      "1329227995784915872903807060280344576\n"
     ]
    }
   ],
   "source": [
    "n = int(input())\n",
    "a = 2 ** n\n",
    "print(a)"
   ]
  },
  {
   "cell_type": "markdown",
   "metadata": {},
   "source": [
    "## Задача 1.3:\n",
    "Вычислите длину гипотенузы в прямоугольном треугольнике со сторонами 179 и 971."
   ]
  },
  {
   "cell_type": "code",
   "execution_count": 14,
   "metadata": {},
   "outputs": [
    {
     "name": "stdout",
     "output_type": "stream",
     "text": [
      "987.361129475938\n"
     ]
    }
   ],
   "source": [
    "import math\n",
    "a = 179\n",
    "b = 971\n",
    "\n",
    "# Способ с использованием функции sqrt\n",
    "h = math.sqrt(a**2 + b**2)\n",
    "\n",
    "# Способ с использованием стандартного возведения в степень\n",
    "h = (a**2 + b**2)**0.5\n",
    "\n",
    "# Способ с использованием функции hypot\n",
    "h = math.hypot(a, b)\n",
    "\n",
    "print(h)"
   ]
  },
  {
   "cell_type": "markdown",
   "metadata": {},
   "source": [
    "## Задача 1.4:\n",
    "С клавиатуры пользователь вводит два числа $a$ и $b$. Выведите гипотенузу треугольника с заданными катетами."
   ]
  },
  {
   "cell_type": "code",
   "execution_count": 15,
   "metadata": {},
   "outputs": [
    {
     "name": "stdin",
     "output_type": "stream",
     "text": [
      " 3\n",
      " 4\n"
     ]
    },
    {
     "name": "stdout",
     "output_type": "stream",
     "text": [
      "5.0\n"
     ]
    }
   ],
   "source": [
    "import math\n",
    "a = int(input())\n",
    "b = int(input())\n",
    "\n",
    "h = (a**2 + b**2)**0.5\n",
    "\n",
    "print(h)"
   ]
  },
  {
   "cell_type": "markdown",
   "metadata": {},
   "source": [
    "## Задача 1.5:\n",
    "Числа $179^{10}$ и $181^9$ сложили. Из получившегося числа извлекли корень степени $10$. Сколько получилось?"
   ]
  },
  {
   "cell_type": "code",
   "execution_count": 17,
   "metadata": {},
   "outputs": [
    {
     "name": "stdout",
     "output_type": "stream",
     "text": [
      "179.11021134365387\n"
     ]
    }
   ],
   "source": [
    "result = (179**10 + 181**9)**(1/10)\n",
    "print(result)"
   ]
  },
  {
   "cell_type": "markdown",
   "metadata": {},
   "source": [
    "## Задача 1.6:\n",
    "Найти частичную сумму ряда обратных квадратов: $\\sum\\limits_{i=1}^{10} \\dfrac{1}{i^2}$"
   ]
  },
  {
   "cell_type": "code",
   "execution_count": 16,
   "metadata": {},
   "outputs": [],
   "source": [
    "partical_sum  = 1/1 + 1/2**2 + 1/3**2 + 1/4**2 + 1/5**2 + 1/6**2 + 1/7**2 + 1/8**2 + 1/9**2 + 1/10**2"
   ]
  },
  {
   "cell_type": "markdown",
   "metadata": {},
   "source": [
    "Примерное значение числа $\\pi$"
   ]
  },
  {
   "cell_type": "code",
   "execution_count": 18,
   "metadata": {},
   "outputs": [
    {
     "name": "stdout",
     "output_type": "stream",
     "text": [
      "3.04936163598207\n"
     ]
    }
   ],
   "source": [
    "pi = (partical_sum*6)**0.5\n",
    "print(pi)"
   ]
  },
  {
   "cell_type": "markdown",
   "metadata": {},
   "source": [
    "## Задача 1.7:\n",
    "C клавиатуры введено натуральное число. Выведите его последнюю цифру."
   ]
  },
  {
   "cell_type": "code",
   "execution_count": 19,
   "metadata": {},
   "outputs": [
    {
     "name": "stdin",
     "output_type": "stream",
     "text": [
      " 123\n"
     ]
    },
    {
     "name": "stdout",
     "output_type": "stream",
     "text": [
      "Последняя цифра: 3\n"
     ]
    }
   ],
   "source": [
    "a = int(input())\n",
    "digit = a % 10\n",
    "print('Последняя цифра:', digit)"
   ]
  },
  {
   "cell_type": "markdown",
   "metadata": {},
   "source": [
    "## Задача 1.8:\n",
    "C клавиатуры введено натуральное число от 1 до 99. Выведите сумму его цифр."
   ]
  },
  {
   "cell_type": "code",
   "execution_count": 20,
   "metadata": {},
   "outputs": [
    {
     "name": "stdin",
     "output_type": "stream",
     "text": [
      "Введите число от 1 до 99: 45\n"
     ]
    },
    {
     "name": "stdout",
     "output_type": "stream",
     "text": [
      "9\n"
     ]
    }
   ],
   "source": [
    "a = int(input(\"Введите число от 1 до 99:\"))\n",
    "first_digit = a % 10\n",
    "second_digit = a // 10\n",
    "s = first_digit + second_digit\n",
    "print(s)"
   ]
  },
  {
   "cell_type": "markdown",
   "metadata": {},
   "source": [
    "## Задача 1.9:\n",
    "Известно, что с начала дня прошло $n$ секунд( это число вводится с клавиатуры).  \n",
    "Сколько часов, минут и секунд будут показывать часы в этот момент времени."
   ]
  },
  {
   "cell_type": "code",
   "execution_count": 22,
   "metadata": {},
   "outputs": [
    {
     "name": "stdin",
     "output_type": "stream",
     "text": [
      " 10000\n"
     ]
    },
    {
     "name": "stdout",
     "output_type": "stream",
     "text": [
      "2 : 46 : 40\n"
     ]
    }
   ],
   "source": [
    "n = int(input())\n",
    "\n",
    "seconds = n % 60\n",
    "temp = n // 60\n",
    "minutes = temp % 60\n",
    "hours = temp // 60\n",
    "\n",
    "print(hours, \":\", minutes, \":\", seconds)"
   ]
  },
  {
   "cell_type": "markdown",
   "metadata": {},
   "source": [
    "## Задача 1.10:\n",
    "В конце каждого месяца сумма на банковском счёте увеличивается на $1\\%$ по сравнению с суммой в начале месяца.  \n",
    "Вася положил в банк $n$ рублей (число $n$ вводится с клавиатуры). Какая сумма окажется на счёте через  $5$ месяцев ?"
   ]
  },
  {
   "cell_type": "code",
   "execution_count": 23,
   "metadata": {},
   "outputs": [
    {
     "name": "stdin",
     "output_type": "stream",
     "text": [
      " 1000\n"
     ]
    },
    {
     "name": "stdout",
     "output_type": "stream",
     "text": [
      "1051.0100501000002\n"
     ]
    }
   ],
   "source": [
    "n = int(input())\n",
    "new_n = n * (1 + 1/100) ** 5\n",
    "print(new_n)"
   ]
  },
  {
   "cell_type": "markdown",
   "metadata": {},
   "source": [
    "# 2. Булевые типы данных"
   ]
  },
  {
   "cell_type": "code",
   "execution_count": 24,
   "metadata": {},
   "outputs": [
    {
     "name": "stdout",
     "output_type": "stream",
     "text": [
      "False\n",
      "True\n"
     ]
    },
    {
     "data": {
      "text/plain": [
       "True"
      ]
     },
     "execution_count": 24,
     "metadata": {},
     "output_type": "execute_result"
    }
   ],
   "source": [
    "# Объявление\n",
    "a = True\n",
    "b = False\n",
    "\n",
    "# Примеры выражений, которые возвращают булевый тип данных\n",
    "print( 0.1 > 2)\n",
    "print( a == a )\n",
    "\n",
    "# Приведение к типу bool\n",
    "bool(20)"
   ]
  },
  {
   "cell_type": "markdown",
   "metadata": {},
   "source": [
    "## Тип данных `None`"
   ]
  },
  {
   "cell_type": "code",
   "execution_count": 25,
   "metadata": {},
   "outputs": [
    {
     "name": "stdout",
     "output_type": "stream",
     "text": [
      "True\n"
     ]
    }
   ],
   "source": [
    "a = None\n",
    "print(a == None)"
   ]
  },
  {
   "cell_type": "markdown",
   "metadata": {},
   "source": [
    "# 3. Строковые типы данных "
   ]
  },
  {
   "cell_type": "markdown",
   "metadata": {},
   "source": [
    "#### Объявление строк"
   ]
  },
  {
   "cell_type": "code",
   "execution_count": 26,
   "metadata": {},
   "outputs": [
    {
     "name": "stdout",
     "output_type": "stream",
     "text": [
      "кавычки \" кавычки ' \n"
     ]
    }
   ],
   "source": [
    "# Присваивание строк\n",
    "a = \"123 abc ..< , \"\n",
    "\n",
    "p = \"\"\n",
    "\n",
    "# Разные кавычки\n",
    "b = '123 abc'\n",
    "\n",
    "c = \"a'b\"\n",
    "b = 'a\"b'\n",
    "a = \"строка 1 \" \" строка 2\"\n",
    "\n",
    "a = \"Строка \\nНовая\"\n",
    "\n",
    "a = \"кавычки \\\" кавычки \\' \"\n",
    "print(a)\n",
    "\n",
    "# Тройные кавычки\n",
    "a = '''\n",
    "Много\n",
    "Строк\n",
    "'''\n"
   ]
  },
  {
   "cell_type": "markdown",
   "metadata": {},
   "source": [
    "#### Срезы, длина строки"
   ]
  },
  {
   "cell_type": "code",
   "execution_count": 28,
   "metadata": {},
   "outputs": [
    {
     "name": "stdout",
     "output_type": "stream",
     "text": [
      "Привет мир, я \n",
      "в\n",
      "20\n"
     ]
    }
   ],
   "source": [
    "# Срезы\n",
    "a = \"Привет мир, я строка\"\n",
    "print(a[:-6])\n",
    "\n",
    "# Символ\n",
    "print(a[3])\n",
    "\n",
    "# Длина строки\n",
    "l = len(a)\n",
    "print(l)\n"
   ]
  },
  {
   "cell_type": "markdown",
   "metadata": {},
   "source": [
    "#### Соединение (конкатенация)"
   ]
  },
  {
   "cell_type": "code",
   "execution_count": 29,
   "metadata": {},
   "outputs": [
    {
     "name": "stdout",
     "output_type": "stream",
     "text": [
      "Начало Конец\n"
     ]
    }
   ],
   "source": [
    "# Соединение строк\n",
    "a = \"Начало\"\n",
    "b = \"Конец\"\n",
    "s = a + \" \" + b\n",
    "\n",
    "print(s)"
   ]
  },
  {
   "cell_type": "markdown",
   "metadata": {},
   "source": [
    "#### \"Умножение\" строк"
   ]
  },
  {
   "cell_type": "code",
   "execution_count": 30,
   "metadata": {},
   "outputs": [
    {
     "name": "stdout",
     "output_type": "stream",
     "text": [
      "abcabcabcabcabc\n"
     ]
    }
   ],
   "source": [
    "a = \"abc\" * 5\n",
    "print(a)"
   ]
  },
  {
   "cell_type": "markdown",
   "metadata": {},
   "source": [
    "#### Строковые методы"
   ]
  },
  {
   "cell_type": "markdown",
   "metadata": {},
   "source": [
    "#### strip"
   ]
  },
  {
   "cell_type": "code",
   "execution_count": 31,
   "metadata": {},
   "outputs": [
    {
     "data": {
      "text/plain": [
       "'Ivan'"
      ]
     },
     "execution_count": 31,
     "metadata": {},
     "output_type": "execute_result"
    }
   ],
   "source": [
    "data = \"  Ivan \\n\"\n",
    "data = (data.strip())\n",
    "data"
   ]
  },
  {
   "cell_type": "markdown",
   "metadata": {},
   "source": [
    "#### Регистр"
   ]
  },
  {
   "cell_type": "code",
   "execution_count": 32,
   "metadata": {},
   "outputs": [
    {
     "name": "stdout",
     "output_type": "stream",
     "text": [
      "ivan\n",
      "IVAN\n",
      "Ivan Ivanov\n"
     ]
    }
   ],
   "source": [
    "print(data.lower())\n",
    "print(data.upper())\n",
    "\n",
    "pr = \"ivan ivanov\"\n",
    "\n",
    "print(pr.title())"
   ]
  },
  {
   "cell_type": "markdown",
   "metadata": {},
   "source": [
    "#### Замена подстрок"
   ]
  },
  {
   "cell_type": "code",
   "execution_count": 43,
   "metadata": {},
   "outputs": [
    {
     "name": "stdout",
     "output_type": "stream",
     "text": [
      "egor - zakutei\n"
     ]
    }
   ],
   "source": [
    "# Заменя подстрок\n",
    "pr = \"ivan ivanov\"\n",
    "print(pr.replace(\" \", \" - \"))"
   ]
  },
  {
   "cell_type": "markdown",
   "metadata": {},
   "source": [
    "#### Разбиение строки"
   ]
  },
  {
   "cell_type": "code",
   "execution_count": 33,
   "metadata": {},
   "outputs": [
    {
     "name": "stdout",
     "output_type": "stream",
     "text": [
      "['10', '3', '40', '15', '14', '81']\n",
      "['10', 'строка', 'с пояснением']\n",
      "['10', 'строка', 'с', 'пояснением']\n"
     ]
    }
   ],
   "source": [
    "# Разбиение строки\n",
    "st = \"10-3-40-15-14-81\"\n",
    "print(st.split(\"-\"))\n",
    "\n",
    "st = \"10 строка с пояснением\"\n",
    "print(st.split(\" \", 2))\n",
    "\n",
    "st = \"10 строка  с   пояснением\"\n",
    "print(st.split())"
   ]
  },
  {
   "cell_type": "markdown",
   "metadata": {},
   "source": [
    "#### Наличие подстрок"
   ]
  },
  {
   "cell_type": "code",
   "execution_count": 34,
   "metadata": {},
   "outputs": [
    {
     "name": "stdout",
     "output_type": "stream",
     "text": [
      "False\n",
      "True\n"
     ]
    }
   ],
   "source": [
    "# Проверка наличия подстроки\n",
    "st = \"10 строка  с   пояснением\"\n",
    "print(\"123\" in st)\n",
    "print(\"рока\" in st)"
   ]
  },
  {
   "cell_type": "code",
   "execution_count": 36,
   "metadata": {},
   "outputs": [
    {
     "name": "stdout",
     "output_type": "stream",
     "text": [
      "False\n",
      "True\n"
     ]
    }
   ],
   "source": [
    "print(st.startswith(\"100\"))\n",
    "print(st.startswith(\"10\"))"
   ]
  },
  {
   "cell_type": "markdown",
   "metadata": {},
   "source": [
    "#### Склеивание нескольких строк"
   ]
  },
  {
   "cell_type": "code",
   "execution_count": 37,
   "metadata": {},
   "outputs": [
    {
     "name": "stdout",
     "output_type": "stream",
     "text": [
      "строка-еще строкa-сколько-угодно строк\n"
     ]
    }
   ],
   "source": [
    "a = [\"строка\",  \"еще строкa\" , \"сколько-угодно строк\"]\n",
    "\n",
    "print(\"-\".join(a))"
   ]
  },
  {
   "cell_type": "markdown",
   "metadata": {},
   "source": [
    "#### Поиск подстроки"
   ]
  },
  {
   "cell_type": "code",
   "execution_count": 38,
   "metadata": {},
   "outputs": [
    {
     "name": "stdout",
     "output_type": "stream",
     "text": [
      "15\n"
     ]
    }
   ],
   "source": [
    "st = \"10 строка  с   пояснением\"\n",
    "\n",
    "print(st.index(\"пояснением\"))"
   ]
  },
  {
   "cell_type": "markdown",
   "metadata": {},
   "source": [
    "## Задача 3.1\n",
    "Пользователь вводит слово. Выведите первые 3 буквы этого слова"
   ]
  },
  {
   "cell_type": "code",
   "execution_count": 39,
   "metadata": {},
   "outputs": [
    {
     "name": "stdin",
     "output_type": "stream",
     "text": [
      " Привет, мир\n"
     ]
    },
    {
     "name": "stdout",
     "output_type": "stream",
     "text": [
      "При\n"
     ]
    }
   ],
   "source": [
    "a = input()\n",
    "print(a[:3])"
   ]
  },
  {
   "cell_type": "markdown",
   "metadata": {},
   "source": [
    "## Задача 3.2\n",
    "Пользователь вводит строку. Замените в этой строке все точки на восклицательные знаки и выведите полученную строку"
   ]
  },
  {
   "cell_type": "code",
   "execution_count": 40,
   "metadata": {},
   "outputs": [
    {
     "name": "stdin",
     "output_type": "stream",
     "text": [
      " Привет мир. Это код.\n"
     ]
    },
    {
     "name": "stdout",
     "output_type": "stream",
     "text": [
      "Привет мир! Это код!\n"
     ]
    }
   ],
   "source": [
    "a = input()\n",
    "print(a.replace(\".\", \"!\"))"
   ]
  },
  {
   "cell_type": "markdown",
   "metadata": {},
   "source": [
    "## Задача 3.3\n",
    "Пользователь вводит строку. Удалите из этой строки все запятые и выведите полученную строку"
   ]
  },
  {
   "cell_type": "code",
   "execution_count": 41,
   "metadata": {},
   "outputs": [
    {
     "name": "stdin",
     "output_type": "stream",
     "text": [
      " привет, мир\n"
     ]
    },
    {
     "name": "stdout",
     "output_type": "stream",
     "text": [
      "привет мир\n"
     ]
    }
   ],
   "source": [
    "a = input()\n",
    "print(a.replace(\",\", \"\"))"
   ]
  },
  {
   "cell_type": "markdown",
   "metadata": {},
   "source": [
    "## Задача 3.4\n",
    "Дана строка. Разрежьте ее на две равные части (если длина строки — четная, а если длина строки нечетная, то длина первой части должна быть на один символ больше). Переставьте эти две части местами, результат запишите в новую строку и выведите на экран."
   ]
  },
  {
   "cell_type": "code",
   "execution_count": 42,
   "metadata": {},
   "outputs": [
    {
     "name": "stdin",
     "output_type": "stream",
     "text": [
      " 12345\n"
     ]
    },
    {
     "name": "stdout",
     "output_type": "stream",
     "text": [
      "Первая часть: 123\n",
      "Вторая часть: 45\n"
     ]
    }
   ],
   "source": [
    "a = input()\n",
    "s = (len(a)+1) // 2\n",
    "\n",
    "print(\"Первая часть:\", a[:s])\n",
    "print(\"Вторая часть:\", a[s:])"
   ]
  },
  {
   "cell_type": "markdown",
   "metadata": {},
   "source": [
    "\n",
    "## Задача 3.5\n",
    "Регистронезависимо сравните введённую строку со словом `пароль` и выведите `True` , если ввёденая строка совпала с этим словом, и `False`, если не совпала."
   ]
  },
  {
   "cell_type": "code",
   "execution_count": 43,
   "metadata": {},
   "outputs": [
    {
     "name": "stdin",
     "output_type": "stream",
     "text": [
      " пАроЛЬ\n"
     ]
    },
    {
     "name": "stdout",
     "output_type": "stream",
     "text": [
      "True\n"
     ]
    }
   ],
   "source": [
    "a = input()\n",
    "a = a.lower()\n",
    "\n",
    "print(a == 'пароль')"
   ]
  },
  {
   "cell_type": "markdown",
   "metadata": {},
   "source": [
    "## Задача 3.6\n",
    "Пользователь вводит с клавиатуры свой **e-mail**. Выведите домен этой электронной почты"
   ]
  },
  {
   "cell_type": "code",
   "execution_count": 44,
   "metadata": {},
   "outputs": [
    {
     "name": "stdin",
     "output_type": "stream",
     "text": [
      " ivan@gmail.com\n"
     ]
    },
    {
     "name": "stdout",
     "output_type": "stream",
     "text": [
      "gmail.com\n"
     ]
    }
   ],
   "source": [
    "email = input()\n",
    "s = email.index(\"@\")\n",
    "domen = email[s+1 : ]\n",
    "\n",
    "print(domen)"
   ]
  },
  {
   "cell_type": "code",
   "execution_count": 45,
   "metadata": {},
   "outputs": [
    {
     "name": "stdin",
     "output_type": "stream",
     "text": [
      " ivan@gmail.com\n"
     ]
    },
    {
     "name": "stdout",
     "output_type": "stream",
     "text": [
      "['ivan', 'gmail.com']\n",
      "gmail.com\n"
     ]
    }
   ],
   "source": [
    "email = input()\n",
    "s = email.split(\"@\")\n",
    "\n",
    "print(s)\n",
    "print(s[1])"
   ]
  },
  {
   "cell_type": "markdown",
   "metadata": {},
   "source": [
    "## Задача 3.7\n",
    "Число $129^{10}$ записали 5 раз подряд. Посчитайте корень $10$ степени из этого числа."
   ]
  },
  {
   "cell_type": "code",
   "execution_count": 46,
   "metadata": {},
   "outputs": [
    {
     "name": "stdout",
     "output_type": "stream",
     "text": [
      "81393497437.94504\n"
     ]
    }
   ],
   "source": [
    "num = 129**10\n",
    "\n",
    "new_num_string = str(num)*5\n",
    "result = (int(new_num_string))**0.1\n",
    "\n",
    "print(result)"
   ]
  },
  {
   "cell_type": "markdown",
   "metadata": {},
   "source": [
    "# 4. Списки и кортежи"
   ]
  },
  {
   "cell_type": "markdown",
   "metadata": {},
   "source": [
    "#### Создание списка "
   ]
  },
  {
   "cell_type": "code",
   "execution_count": 47,
   "metadata": {},
   "outputs": [
    {
     "name": "stdout",
     "output_type": "stream",
     "text": [
      "[]\n",
      "[1, 2, 3]\n",
      "[1, 1, 1, 1, 1, 1, 1, 1, 1, 1]\n",
      "['с', 'т', 'р', 'о', 'к', 'а']\n"
     ]
    }
   ],
   "source": [
    "# Пустой список\n",
    "a1 = []\n",
    "print(a1)\n",
    "\n",
    "# Наполняем список\n",
    "a2 = [1, 2, 3]\n",
    "print(a2)\n",
    "\n",
    "# Список из десяти одинаковых элементов\n",
    "a3 = [1] * 10\n",
    "print(a3)\n",
    "\n",
    "# С помощью функции list\n",
    "a4 = list(\"строка\")\n",
    "print(a4)"
   ]
  },
  {
   "cell_type": "markdown",
   "metadata": {},
   "source": [
    "#### Добавление элементов"
   ]
  },
  {
   "cell_type": "code",
   "execution_count": 48,
   "metadata": {},
   "outputs": [
    {
     "name": "stdout",
     "output_type": "stream",
     "text": [
      "[1]\n",
      "[1, 1, 2, 3]\n"
     ]
    }
   ],
   "source": [
    "# Один элемент\n",
    "a1.append(1)\n",
    "print(a1)\n",
    "\n",
    "# Список из элементов\n",
    "a1.extend([1,2,3])\n",
    "print(a1)"
   ]
  },
  {
   "cell_type": "markdown",
   "metadata": {},
   "source": [
    "#### Копирование списка"
   ]
  },
  {
   "cell_type": "code",
   "execution_count": 49,
   "metadata": {},
   "outputs": [
    {
     "name": "stdout",
     "output_type": "stream",
     "text": [
      "[1, 2, 3, 10]\n"
     ]
    }
   ],
   "source": [
    "a = [1, 2, 3]\n",
    "b = a\n",
    "a.append(10)\n",
    "print(b)"
   ]
  },
  {
   "cell_type": "code",
   "execution_count": 50,
   "metadata": {},
   "outputs": [
    {
     "name": "stdout",
     "output_type": "stream",
     "text": [
      "[1, 2, 3]\n"
     ]
    }
   ],
   "source": [
    "a = [1, 2, 3]\n",
    "b = a.copy()\n",
    "a.append(10)\n",
    "print(b)"
   ]
  },
  {
   "cell_type": "markdown",
   "metadata": {},
   "source": [
    "#### Поиск и вставка элементов "
   ]
  },
  {
   "cell_type": "code",
   "execution_count": 51,
   "metadata": {},
   "outputs": [
    {
     "name": "stdout",
     "output_type": "stream",
     "text": [
      "3\n",
      "0\n",
      "[1, 4, 1, 2, 2, 3, 3, 3]\n"
     ]
    }
   ],
   "source": [
    "a1 = [1, 1, 2, 2, 3,3 ,3]\n",
    "\n",
    "# Подсчет вхождений\n",
    "print(a1.count(3))\n",
    "\n",
    "# Возвращает индекс элемента 1\n",
    "print(a1.index(1))\n",
    "\n",
    "# Вставка элемента 4 на позицию 1\n",
    "a1.insert(1, 4)\n",
    "print(a1)"
   ]
  },
  {
   "cell_type": "markdown",
   "metadata": {},
   "source": [
    "#### Удаление элемента"
   ]
  },
  {
   "cell_type": "code",
   "execution_count": 52,
   "metadata": {},
   "outputs": [
    {
     "name": "stdout",
     "output_type": "stream",
     "text": [
      "2\n",
      "[1, 4, 1, 2, 3, 3, 3]\n"
     ]
    }
   ],
   "source": [
    "el = a1.pop(3)\n",
    "print(el)\n",
    "print(a1)"
   ]
  },
  {
   "cell_type": "markdown",
   "metadata": {},
   "source": [
    "#### Сортировка списка"
   ]
  },
  {
   "cell_type": "code",
   "execution_count": 53,
   "metadata": {},
   "outputs": [
    {
     "data": {
      "text/plain": [
       "[1, 1, 2, 3, 3, 3, 4]"
      ]
     },
     "execution_count": 53,
     "metadata": {},
     "output_type": "execute_result"
    }
   ],
   "source": [
    "a1.sort()\n",
    "a1"
   ]
  },
  {
   "cell_type": "markdown",
   "metadata": {},
   "source": [
    "#### Срезы списков и длина\n",
    "Имеют вид `%начало среза% : %конец среза% : %шаг среза%`"
   ]
  },
  {
   "cell_type": "code",
   "execution_count": 54,
   "metadata": {},
   "outputs": [
    {
     "name": "stdout",
     "output_type": "stream",
     "text": [
      "7\n"
     ]
    }
   ],
   "source": [
    "a1_2 = a1[::-1]\n",
    "\n",
    "print(len(a1))"
   ]
  },
  {
   "cell_type": "markdown",
   "metadata": {},
   "source": [
    "#### Склеивание списков"
   ]
  },
  {
   "cell_type": "code",
   "execution_count": 55,
   "metadata": {},
   "outputs": [
    {
     "data": {
      "text/plain": [
       "[1, 2, 3, 'a', 'b']"
      ]
     },
     "execution_count": 55,
     "metadata": {},
     "output_type": "execute_result"
    }
   ],
   "source": [
    "a2 = [1, 2, 3,]\n",
    "a3 = ['a', 'b']\n",
    "a_new = a2+a3\n",
    "a_new"
   ]
  },
  {
   "cell_type": "markdown",
   "metadata": {},
   "source": [
    "\n",
    "#### Суммы, минимумы, максимумы"
   ]
  },
  {
   "cell_type": "code",
   "execution_count": 56,
   "metadata": {},
   "outputs": [
    {
     "name": "stdout",
     "output_type": "stream",
     "text": [
      "33\n",
      "1\n",
      "10\n"
     ]
    }
   ],
   "source": [
    "a = [2, 5, 9, 1, 4, 2, 10]\n",
    "\n",
    "print(sum(a))\n",
    "print(min(a))\n",
    "print(max(a))"
   ]
  },
  {
   "cell_type": "code",
   "execution_count": 57,
   "metadata": {},
   "outputs": [
    {
     "data": {
      "text/plain": [
       "[1, 2, 3, 4, 5, 6, 7, 8, 9]"
      ]
     },
     "execution_count": 57,
     "metadata": {},
     "output_type": "execute_result"
    }
   ],
   "source": [
    "a = [\n",
    "    [1, 2],\n",
    "    [3, 4, 5],\n",
    "    [6],\n",
    "    [7, 8 ,9 ]\n",
    "]\n",
    "sum(a, [])"
   ]
  },
  {
   "cell_type": "markdown",
   "metadata": {},
   "source": [
    "#### Кортежи"
   ]
  },
  {
   "cell_type": "code",
   "execution_count": 58,
   "metadata": {},
   "outputs": [
    {
     "name": "stdout",
     "output_type": "stream",
     "text": [
      "(1, 1, 2, 3, 3, 3, 4)\n"
     ]
    }
   ],
   "source": [
    "k = (1, 4, 2)\n",
    "k = tuple(a1)\n",
    "\n",
    "print(k)\n",
    "\n",
    "a = (1, 2)"
   ]
  },
  {
   "cell_type": "markdown",
   "metadata": {},
   "source": [
    "## Задача 4.1\n",
    "В коде задан список `A`. Выведите все элементы списка с четными индексами (то есть `A[0]`, `A[2]`, `A[4]`, ...)."
   ]
  },
  {
   "cell_type": "code",
   "execution_count": 59,
   "metadata": {},
   "outputs": [
    {
     "name": "stdout",
     "output_type": "stream",
     "text": [
      "[1, 3, 5, 7]\n"
     ]
    }
   ],
   "source": [
    "A = [1, 2, 3, 4, 5, 6, 7]\n",
    "print(A[::2])"
   ]
  },
  {
   "cell_type": "markdown",
   "metadata": {},
   "source": [
    "## Задача 4.2\n",
    "В коде задан список `A`. Выведите сумму элементов списка с индексами, кратными $3$ (то есть `A[0]`, `A[3]`, `A[6]`, ...)."
   ]
  },
  {
   "cell_type": "code",
   "execution_count": 60,
   "metadata": {},
   "outputs": [
    {
     "name": "stdout",
     "output_type": "stream",
     "text": [
      "12\n"
     ]
    }
   ],
   "source": [
    "A = [1, 2, 3, 4, 5, 6, 7]\n",
    "print(sum(A[::3]))"
   ]
  },
  {
   "cell_type": "markdown",
   "metadata": {},
   "source": [
    "## Задача 4.3\n",
    "В коде задан список `A`. Циклически сдвиньте элементы списка вправо (`A[0]` переходит на место `A[1]`, `A[1]` на место `A[2]`, ..., последний элемент переходит на место `A[0]`)."
   ]
  },
  {
   "cell_type": "code",
   "execution_count": 61,
   "metadata": {},
   "outputs": [
    {
     "name": "stdout",
     "output_type": "stream",
     "text": [
      "[7, 1, 2, 3, 4, 5, 6]\n"
     ]
    }
   ],
   "source": [
    "A = [1, 2, 3, 4, 5, 6, 7]\n",
    "new_A = A[-1:] + A[:-1]\n",
    "\n",
    "print(new_A)"
   ]
  },
  {
   "cell_type": "markdown",
   "metadata": {},
   "source": [
    "## Задача 4.4\n",
    "В коде задан список `A`. Поменяйте местами минимальный и максимальный элемент этого списка."
   ]
  },
  {
   "cell_type": "code",
   "execution_count": 62,
   "metadata": {},
   "outputs": [
    {
     "data": {
      "text/plain": [
       "[7, 2, 3, 4, 5, 6, 1]"
      ]
     },
     "execution_count": 62,
     "metadata": {},
     "output_type": "execute_result"
    }
   ],
   "source": [
    "A = [1, 2, 3, 4, 5, 6, 7]\n",
    "max_index = A.index(max(A))\n",
    "min_index = A.index(min(A))\n",
    "\n",
    "A[max_index], A[min_index] = A[min_index], A[max_index]\n",
    "\n",
    "A"
   ]
  },
  {
   "cell_type": "markdown",
   "metadata": {},
   "source": [
    "## Задача 4.5\n",
    "Пользователь вводит в консоль строку. Удалите в этой строке каждое второе слово."
   ]
  },
  {
   "cell_type": "code",
   "execution_count": 63,
   "metadata": {},
   "outputs": [
    {
     "name": "stdin",
     "output_type": "stream",
     "text": [
      " Длинная строка со множеством самых разных слов\n"
     ]
    },
    {
     "name": "stdout",
     "output_type": "stream",
     "text": [
      "Длинная со самых слов\n"
     ]
    }
   ],
   "source": [
    "a = input()\n",
    "\n",
    "words = a.split()\n",
    "even_words = words[::2]\n",
    "s = \" \".join(even_words)\n",
    "\n",
    "print(s)"
   ]
  },
  {
   "cell_type": "markdown",
   "metadata": {},
   "source": [
    "## Задача 4.6\n",
    "В коде задан список `A`. Найдите второй и третий минимумы этого списка."
   ]
  },
  {
   "cell_type": "code",
   "execution_count": 64,
   "metadata": {},
   "outputs": [
    {
     "name": "stdout",
     "output_type": "stream",
     "text": [
      "2 3\n"
     ]
    }
   ],
   "source": [
    "A = [1, 2, 3, 4, 5, 6, 7]\n",
    "\n",
    "first_min = A.pop(A.index(min(A)))\n",
    "second_min = A.pop(A.index(min(A)))\n",
    "third_min = A.pop(A.index(min(A)))\n",
    "\n",
    "print(second_min, third_min)"
   ]
  },
  {
   "cell_type": "code",
   "execution_count": 65,
   "metadata": {},
   "outputs": [
    {
     "name": "stdout",
     "output_type": "stream",
     "text": [
      "2 3\n"
     ]
    }
   ],
   "source": [
    "A = [1, 2, 3, 4, 5, 6, 7]\n",
    "\n",
    "A.sort()\n",
    "print(A[1], A[2])"
   ]
  },
  {
   "cell_type": "markdown",
   "metadata": {},
   "source": [
    "## Задача 4.7\n",
    "Пользователь вводит в консоль строку. Посчитайте, сколько раз в этой строке встретилось слово `нет`"
   ]
  },
  {
   "cell_type": "code",
   "execution_count": 66,
   "metadata": {},
   "outputs": [
    {
     "name": "stdin",
     "output_type": "stream",
     "text": [
      " нет да нет да да да нет\n"
     ]
    },
    {
     "name": "stdout",
     "output_type": "stream",
     "text": [
      "3\n"
     ]
    }
   ],
   "source": [
    "a = input()\n",
    "print(a.count(\"нет\"))"
   ]
  },
  {
   "cell_type": "markdown",
   "metadata": {},
   "source": [
    "# 5. Словари"
   ]
  },
  {
   "cell_type": "markdown",
   "metadata": {},
   "source": [
    "#### Создание словарей"
   ]
  },
  {
   "cell_type": "code",
   "execution_count": 67,
   "metadata": {},
   "outputs": [],
   "source": [
    "# Создание пустого словаря\n",
    "d = dict()\n",
    "d1 = {}\n",
    "\n",
    "# Создание словаря с разными значениями\n",
    "d2 = {\n",
    "    \"key\" : \"value\",\n",
    "    \"key2\" : \"val\",\n",
    "    123 : \"new\"\n",
    "}\n",
    "\n",
    "# Создание словаря с разными ключами, но одним значением\n",
    "d3 = dict.fromkeys((\"key1\",\"key2\"), \"value\")"
   ]
  },
  {
   "cell_type": "markdown",
   "metadata": {},
   "source": [
    "#### Получение значения по ключу"
   ]
  },
  {
   "cell_type": "code",
   "execution_count": 68,
   "metadata": {},
   "outputs": [
    {
     "name": "stdout",
     "output_type": "stream",
     "text": [
      "123\n",
      "строка\n",
      "{'key': 'строка', 'key2': 'val', 123: 'new', 'field': 123}\n"
     ]
    }
   ],
   "source": [
    "d2[\"field\"] = 123\n",
    "print(d2[\"field\"])\n",
    "\n",
    "d2[\"key\"] = \"строка\"\n",
    "print(d2[\"key\"])\n",
    "\n",
    "print(d2)"
   ]
  },
  {
   "cell_type": "markdown",
   "metadata": {},
   "source": [
    "#### Методы items, values и keys"
   ]
  },
  {
   "cell_type": "code",
   "execution_count": 69,
   "metadata": {},
   "outputs": [
    {
     "name": "stdout",
     "output_type": "stream",
     "text": [
      "[('key', 'строка'), ('key2', 'val'), (123, 'new'), ('field', 123)]\n",
      "['key1', 'key2']\n",
      "['value', 'value']\n"
     ]
    }
   ],
   "source": [
    "# Список пар ключ-значение\n",
    "print(list(d2.items()))\n",
    "\n",
    "# Список ключей\n",
    "print(list(d3.keys()))\n",
    "\n",
    "# Список значнией\n",
    "print(list(d3.values()))"
   ]
  },
  {
   "cell_type": "markdown",
   "metadata": {},
   "source": [
    "#### Удаление ключа "
   ]
  },
  {
   "cell_type": "code",
   "execution_count": 70,
   "metadata": {},
   "outputs": [
    {
     "name": "stdout",
     "output_type": "stream",
     "text": [
      "строка\n",
      "{'key2': 'val', 123: 'new', 'field': 123}\n"
     ]
    }
   ],
   "source": [
    "# Удаление элемента\n",
    "el = d2.pop(\"key\")\n",
    "print(el)\n",
    "print(d2)"
   ]
  },
  {
   "cell_type": "markdown",
   "metadata": {},
   "source": [
    "#### Слияение словарей"
   ]
  },
  {
   "cell_type": "code",
   "execution_count": 71,
   "metadata": {},
   "outputs": [
    {
     "name": "stdout",
     "output_type": "stream",
     "text": [
      "{'key1': 'value', 'key2': 'value'}\n",
      "{'key1': 3, 'key2': 'value', 'a': 1, 'b': 2}\n"
     ]
    }
   ],
   "source": [
    "# update - добваление словаря\n",
    "print(d3)\n",
    "\n",
    "d3.update({\n",
    "    \"a\" : 1,\n",
    "    \"b\" : 2,\n",
    "    \"key1\" : 3\n",
    "})\n",
    "\n",
    "print(d3)"
   ]
  },
  {
   "cell_type": "markdown",
   "metadata": {},
   "source": [
    "#### Значение по-умолчанию"
   ]
  },
  {
   "cell_type": "code",
   "execution_count": 72,
   "metadata": {},
   "outputs": [
    {
     "ename": "KeyError",
     "evalue": "'not exists'",
     "output_type": "error",
     "traceback": [
      "\u001b[1;31m---------------------------------------------------------------------------\u001b[0m",
      "\u001b[1;31mKeyError\u001b[0m                                  Traceback (most recent call last)",
      "\u001b[1;32m<ipython-input-72-804da92e1f33>\u001b[0m in \u001b[0;36m<module>\u001b[1;34m\u001b[0m\n\u001b[1;32m----> 1\u001b[1;33m \u001b[0mprint\u001b[0m\u001b[1;33m(\u001b[0m\u001b[0md3\u001b[0m\u001b[1;33m[\u001b[0m\u001b[1;34m\"not exists\"\u001b[0m\u001b[1;33m]\u001b[0m\u001b[1;33m)\u001b[0m\u001b[1;33m\u001b[0m\u001b[1;33m\u001b[0m\u001b[0m\n\u001b[0m",
      "\u001b[1;31mKeyError\u001b[0m: 'not exists'"
     ]
    }
   ],
   "source": [
    "print(d3[\"not exists\"])"
   ]
  },
  {
   "cell_type": "code",
   "execution_count": 73,
   "metadata": {},
   "outputs": [
    {
     "name": "stdout",
     "output_type": "stream",
     "text": [
      "default\n",
      "value\n"
     ]
    }
   ],
   "source": [
    "print(d3.setdefault(\"not exists\", \"default\"))\n",
    "print(d3.setdefault(\"key2\", \"default\"))"
   ]
  },
  {
   "cell_type": "markdown",
   "metadata": {},
   "source": [
    "## Задача 5.1  \n",
    "На предприятии у каждого работника есть свой **ID**. Заранее дан словарь, где ключи - это имена сотрудников, а значения - это их **ID**. \n",
    "1. Вывести все имена  сотрудников\n",
    "2. Вывести все существующие **ID**\n",
    "3. С клавиатуры вводится имя сотрудника, вывести **ID**"
   ]
  },
  {
   "cell_type": "code",
   "execution_count": 74,
   "metadata": {},
   "outputs": [
    {
     "name": "stdout",
     "output_type": "stream",
     "text": [
      "['Иван', 'Максим', 'Сергей']\n",
      "[1, 2, 10]\n"
     ]
    },
    {
     "name": "stdin",
     "output_type": "stream",
     "text": [
      " Иван\n"
     ]
    },
    {
     "name": "stdout",
     "output_type": "stream",
     "text": [
      "1\n"
     ]
    }
   ],
   "source": [
    "d = {\n",
    "    \"Иван\": 1,\n",
    "    \"Максим\": 2,\n",
    "    \"Сергей\": 10,\n",
    "}\n",
    "\n",
    "print(list(d.keys()))\n",
    "\n",
    "print(list(d.values()))\n",
    "\n",
    "name = input()\n",
    "\n",
    "print(d[name])"
   ]
  },
  {
   "cell_type": "markdown",
   "metadata": {},
   "source": [
    "## Задача 5.2\n",
    "В банке у каждого клиента есть какая-то сумма на счёте. Заранее дан словарь, где ключи - это имена клиентов, а значения - это сумма на их счёте. \n",
    "1. Вывести, какое количество денег хранится на всех счетах вместе\n",
    "2. С клавиатуры вводится имя клиента, вывести сумму на счёте этого клиента\n",
    "3. С клавиатуры вводится имя клиента и сумма, на которую клиент пополнил свой счёт. Сохранить это пополнение в словаре"
   ]
  },
  {
   "cell_type": "code",
   "execution_count": 76,
   "metadata": {},
   "outputs": [
    {
     "name": "stdout",
     "output_type": "stream",
     "text": [
      "13\n"
     ]
    },
    {
     "name": "stdin",
     "output_type": "stream",
     "text": [
      " Иван\n"
     ]
    },
    {
     "name": "stdout",
     "output_type": "stream",
     "text": [
      "1\n"
     ]
    },
    {
     "name": "stdin",
     "output_type": "stream",
     "text": [
      " Иван\n",
      " 100\n"
     ]
    },
    {
     "name": "stdout",
     "output_type": "stream",
     "text": [
      "{'Иван': 101, 'Максим': 2, 'Сергей': 10}\n"
     ]
    }
   ],
   "source": [
    "d = {\n",
    "    \"Иван\": 1,\n",
    "    \"Максим\": 2,\n",
    "    \"Сергей\": 10,\n",
    "}\n",
    "\n",
    "print(sum(d.values()))\n",
    "\n",
    "name = input()\n",
    "print(d[name])\n",
    "\n",
    "name = input()\n",
    "dif = int(input())\n",
    "d[name] += dif\n",
    "print(d)"
   ]
  },
  {
   "cell_type": "markdown",
   "metadata": {},
   "source": [
    "\n",
    "# 6. Множества"
   ]
  },
  {
   "cell_type": "markdown",
   "metadata": {},
   "source": [
    "#### Создание множества"
   ]
  },
  {
   "cell_type": "code",
   "execution_count": 77,
   "metadata": {},
   "outputs": [
    {
     "name": "stdout",
     "output_type": "stream",
     "text": [
      "{1, 2, 5}\n"
     ]
    }
   ],
   "source": [
    "# Создание set\n",
    "# Пустой\n",
    "A = set()\n",
    "\n",
    "# Из списка\n",
    "a1 = [1, 2, 5, 1, 2]\n",
    "A = set(a1)\n",
    "\n",
    "print(A)"
   ]
  },
  {
   "cell_type": "markdown",
   "metadata": {},
   "source": [
    "#### Добавление элемента "
   ]
  },
  {
   "cell_type": "code",
   "execution_count": 78,
   "metadata": {},
   "outputs": [
    {
     "name": "stdout",
     "output_type": "stream",
     "text": [
      "{1, 2, 10, 5}\n"
     ]
    }
   ],
   "source": [
    "A.add(10)\n",
    "print(A)"
   ]
  },
  {
   "cell_type": "markdown",
   "metadata": {},
   "source": [
    "#### Разность, пересечение и объединение"
   ]
  },
  {
   "cell_type": "code",
   "execution_count": 79,
   "metadata": {},
   "outputs": [
    {
     "name": "stdout",
     "output_type": "stream",
     "text": [
      "{1, 2, 10, 5}\n",
      "{1, 2, 20, 5}\n",
      "{10}\n",
      "{1, 2, 5, 10, 20}\n",
      "{1, 2, 5}\n"
     ]
    }
   ],
   "source": [
    "A2 = set([1, 2, 5, 20])\n",
    "\n",
    "print(A)\n",
    "print(A2)\n",
    "# Разность множеств\n",
    "print(A.difference(A2))\n",
    "\n",
    "\n",
    "# Пересечение и объединение множеств\n",
    "print(A.union(A2))\n",
    "print(A.intersection(A2))"
   ]
  },
  {
   "cell_type": "markdown",
   "metadata": {},
   "source": [
    "#### Проверка на наличие"
   ]
  },
  {
   "cell_type": "code",
   "execution_count": 80,
   "metadata": {},
   "outputs": [
    {
     "name": "stdout",
     "output_type": "stream",
     "text": [
      "True\n"
     ]
    }
   ],
   "source": [
    "# Проверка элемента в множестве\n",
    "print(2 in A)"
   ]
  },
  {
   "cell_type": "markdown",
   "metadata": {},
   "source": [
    "## Задача 6.1\n",
    "Пользователь вводит через пробел числа. Найти количество уникальных чисел"
   ]
  },
  {
   "cell_type": "code",
   "execution_count": 82,
   "metadata": {},
   "outputs": [
    {
     "name": "stdin",
     "output_type": "stream",
     "text": [
      " 1 1 2 3 3 3 3 4 4 1 1 \n"
     ]
    },
    {
     "name": "stdout",
     "output_type": "stream",
     "text": [
      "['1', '1', '2', '3', '3', '3', '3', '4', '4', '1', '1']\n",
      "['4', '3', '2', '1']\n",
      "4\n"
     ]
    }
   ],
   "source": [
    "s = input()\n",
    "a = s.split()\n",
    "print(a)\n",
    "\n",
    "a = list(set(a))\n",
    "print(a)\n",
    "\n",
    "print(len(a))"
   ]
  },
  {
   "cell_type": "markdown",
   "metadata": {},
   "source": [
    "## Задача 6.2\n",
    "Пользователь дважды вводит строки, в которых через пробел расставлены числа. \n",
    "Найти числа, котрые есть в первой строке, но которых нет во второй строке"
   ]
  },
  {
   "cell_type": "code",
   "execution_count": 83,
   "metadata": {},
   "outputs": [
    {
     "name": "stdin",
     "output_type": "stream",
     "text": [
      " 1 2 3 4 5 6 7 8 9\n",
      " 2 4 6 8 10 12\n"
     ]
    },
    {
     "data": {
      "text/plain": [
       "['7', '9', '3', '5', '1']"
      ]
     },
     "execution_count": 83,
     "metadata": {},
     "output_type": "execute_result"
    }
   ],
   "source": [
    "s1 = input()\n",
    "s2 = input()\n",
    "\n",
    "s1 = set(s1.split())\n",
    "s2 = set(s2.split())\n",
    "\n",
    "list(s1.difference(s2))"
   ]
  },
  {
   "cell_type": "markdown",
   "metadata": {},
   "source": [
    "\n",
    "## Задача 6.3\n",
    "На нашем сайте есть система авторизации, которая требует логин и пароль.  \n",
    "Новый пользователь хочет зарегистрироваться на сайте с определенным логином, который он ввёл с клавиатуры.  \n",
    "Заранее дан `set` со всеми занятыми логинами.  \n",
    "Вывести `True`, если логин, который хочет зарегистрировать пользователь, еще не занят, и `False` в противном случае."
   ]
  },
  {
   "cell_type": "code",
   "execution_count": 84,
   "metadata": {},
   "outputs": [
    {
     "name": "stdin",
     "output_type": "stream",
     "text": [
      " abc\n"
     ]
    },
    {
     "name": "stdout",
     "output_type": "stream",
     "text": [
      "False\n"
     ]
    }
   ],
   "source": [
    "logins = set([\"login\", \"abc\", \"ivan\"])\n",
    "new_login = input()\n",
    "print(new_login not in logins)"
   ]
  }
 ],
 "metadata": {
  "kernelspec": {
   "display_name": "Python 3",
   "language": "python",
   "name": "python3"
  },
  "language_info": {
   "codemirror_mode": {
    "name": "ipython",
    "version": 3
   },
   "file_extension": ".py",
   "mimetype": "text/x-python",
   "name": "python",
   "nbconvert_exporter": "python",
   "pygments_lexer": "ipython3",
   "version": "3.8.6"
  }
 },
 "nbformat": 4,
 "nbformat_minor": 4
}
